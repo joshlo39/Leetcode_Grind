{
 "cells": [
  {
   "attachments": {},
   "cell_type": "markdown",
   "metadata": {},
   "source": [
    "# Sliding Window"
   ]
  },
  {
   "attachments": {},
   "cell_type": "markdown",
   "metadata": {},
   "source": [
    "Check if array contains a pair of duplicate values, where the two duplicates are no farther than k positions from \n",
    "eachother (i.e. arr[i] == arr[j] and abs(i - j) + 1 <= k).\n",
    "O(n * k)"
   ]
  },
  {
   "cell_type": "code",
   "execution_count": 24,
   "metadata": {},
   "outputs": [],
   "source": [
    "def closeDuplicatesBruteForce(nums, k):\n",
    "    for L in range(len(nums)):\n",
    "        for R in range(L + 1, min(len(nums), L + k)): \n",
    "            if nums[L] == nums[R]:\n",
    "                return True\n",
    "    return False"
   ]
  },
  {
   "attachments": {},
   "cell_type": "markdown",
   "metadata": {},
   "source": [
    "The range in the second for loop goes from L + 1 to either the last element of the array or L + K\n"
   ]
  },
  {
   "attachments": {},
   "cell_type": "markdown",
   "metadata": {},
   "source": [
    "For a optimized approach use a hashmap to store the windows"
   ]
  },
  {
   "cell_type": "code",
   "execution_count": 25,
   "metadata": {},
   "outputs": [],
   "source": [
    "def closeDuplicates(nums,k):\n",
    "    window = set() \n",
    "    L = 0\n",
    "    \n",
    "    for R in range(len(nums)):\n",
    "        sizeOfWindow = R - L + 1\n",
    "        if sizeOfWindow > k: #window is larger than k so we shift by removeing first element and shifting L\n",
    "            window.remove(nums[L])\n",
    "            L += 1\n",
    "        if nums[R] in window:\n",
    "            return True\n",
    "        window.add(nums[R])\n",
    "        \n",
    "    return False"
   ]
  },
  {
   "cell_type": "code",
   "execution_count": 26,
   "metadata": {},
   "outputs": [
    {
     "ename": "NameError",
     "evalue": "name 'List' is not defined",
     "output_type": "error",
     "traceback": [
      "\u001b[0;31m---------------------------------------------------------------------------\u001b[0m",
      "\u001b[0;31mNameError\u001b[0m                                 Traceback (most recent call last)",
      "Cell \u001b[0;32mIn[26], line 1\u001b[0m\n\u001b[0;32m----> 1\u001b[0m \u001b[39mdef\u001b[39;00m \u001b[39mnumOfSubarrays\u001b[39m(\u001b[39mself\u001b[39m, arr: List[\u001b[39mint\u001b[39m], k: \u001b[39mint\u001b[39m, threshold: \u001b[39mint\u001b[39m) \u001b[39m-\u001b[39m\u001b[39m>\u001b[39m \u001b[39mint\u001b[39m:\n\u001b[1;32m      2\u001b[0m     res \u001b[39m=\u001b[39m \u001b[39m0\u001b[39m\n\u001b[1;32m      3\u001b[0m     curSum \u001b[39m=\u001b[39m \u001b[39msum\u001b[39m(arr[:k\u001b[39m-\u001b[39m\u001b[39m1\u001b[39m]) \u001b[39m#0 - 1\u001b[39;00m\n",
      "\u001b[0;31mNameError\u001b[0m: name 'List' is not defined"
     ]
    }
   ],
   "source": [
    "def numOfSubarrays(self, arr: List[int], k: int, threshold: int) -> int:\n",
    "    res = 0\n",
    "    curSum = sum(arr[:k-1]) #0 - 1\n",
    "    \n",
    "    for l in range(len(arr) - k + 1): #iterates i until position 5 in order to keep lastsub array to 3 and not anything less\n",
    "        curSum += arr[l + k -1] \n",
    "        if(curSum / k) >= threshold:\n",
    "            res+= 1\n",
    "        curSum -= arr[l]\n",
    "        \n",
    "    return res\n"
   ]
  },
  {
   "attachments": {},
   "cell_type": "markdown",
   "metadata": {},
   "source": [
    "1. Use sliding window technique to keep track of the subarrays with k elements\n",
    "2. initialize first sub-array (curSum) as the first two elements in the list\n",
    "3. iterate through list until the k to last element ----> range(len(arr)-k + 1)\n",
    "    - this is so the last subarray is k positions and there is not a smaller than k subarray\n",
    "4. in the for loop add the third elements value to the subarray (curSum) ---> arr[l + k -1] \n",
    "5. Check if the cursum's average is greater than threshold\n",
    "6. remove the last element in the subarray from curSum ----> curSum -= arr[l]"
   ]
  },
  {
   "cell_type": "code",
   "execution_count": 43,
   "metadata": {},
   "outputs": [
    {
     "data": {
      "text/plain": [
       "21"
      ]
     },
     "execution_count": 43,
     "metadata": {},
     "output_type": "execute_result"
    }
   ],
   "source": [
    "def getCount(player):\n",
    "    sum = 0\n",
    "    doubles = 0\n",
    "    for score in player:\n",
    "        if doubles > 0:\n",
    "            sum += 2 * score\n",
    "            doubles -= 1\n",
    "        else:\n",
    "            sum += score\n",
    "        if score == 10:\n",
    "            doubles = 2\n",
    "    return sum\n",
    "        \n",
    "\n",
    "getCount([10,2,2,3])\n",
    "        \n",
    "    "
   ]
  },
  {
   "cell_type": "code",
   "execution_count": null,
   "metadata": {},
   "outputs": [],
   "source": []
  }
 ],
 "metadata": {
  "kernelspec": {
   "display_name": "Python 3",
   "language": "python",
   "name": "python3"
  },
  "language_info": {
   "codemirror_mode": {
    "name": "ipython",
    "version": 3
   },
   "file_extension": ".py",
   "mimetype": "text/x-python",
   "name": "python",
   "nbconvert_exporter": "python",
   "pygments_lexer": "ipython3",
   "version": "3.11.4 (main, Jul 25 2023, 17:36:13) [Clang 14.0.3 (clang-1403.0.22.14.1)]"
  },
  "orig_nbformat": 4,
  "vscode": {
   "interpreter": {
    "hash": "b0fa6594d8f4cbf19f97940f81e996739fb7646882a419484c72d19e05852a7e"
   }
  }
 },
 "nbformat": 4,
 "nbformat_minor": 2
}
