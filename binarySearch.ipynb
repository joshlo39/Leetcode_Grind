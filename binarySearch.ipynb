{
 "cells": [
  {
   "attachments": {},
   "cell_type": "markdown",
   "metadata": {},
   "source": [
    "### Binary Search \n",
    "Get middle and check if target is greater or less than that middle value. Then search whicherver side the target is on\n",
    "Array has to be in order for binary search to work"
   ]
  },
  {
   "cell_type": "code",
   "execution_count": null,
   "metadata": {},
   "outputs": [],
   "source": [
    "def BinarySearch(nums,target):\n",
    "    left = 0 \n",
    "    right = len(nums) -1 \n",
    "    \n",
    "    \n",
    "    while left <= right:\n",
    "        mid =left + (right - left) // 2\n",
    "        if target < nums[mid]:\n",
    "            right = mid - 1\n",
    "        elif target > nums[mid]:\n",
    "            left = mid + 1\n",
    "        else: \n",
    "            return mid\n",
    "    \n",
    "    return -1"
   ]
  },
  {
   "attachments": {},
   "cell_type": "markdown",
   "metadata": {},
   "source": [
    "#### Search a 2d Matrix\n",
    "- binary search the rows to find the row that the target is in\n",
    "- binary search the columns to find the target\n",
    "-using two seperate binary searches\n"
   ]
  },
  {
   "cell_type": "code",
   "execution_count": 1,
   "metadata": {},
   "outputs": [
    {
     "ename": "SyntaxError",
     "evalue": "incomplete input (2484235439.py, line 19)",
     "output_type": "error",
     "traceback": [
      "\u001b[0;36m  Cell \u001b[0;32mIn[1], line 19\u001b[0;36m\u001b[0m\n\u001b[0;31m    if not (topRow <= bottomRow):\u001b[0m\n\u001b[0m                                 ^\u001b[0m\n\u001b[0;31mSyntaxError\u001b[0m\u001b[0;31m:\u001b[0m incomplete input\n"
     ]
    }
   ],
   "source": [
    "def searchMatrix(matrix, target):\n",
    "    rows, cols = len(matrix, len(matrix[0]))\n",
    "    \n",
    "    topRow = 0 \n",
    "    bottomRow = rows - 1\n",
    "    # [00000]  TOP\n",
    "    # [99999]\n",
    "    # [88888]Bottom\n",
    "    \n",
    "    while topRow <= bottomRow:\n",
    "        midRow = (topRow + bottomRow) // 2\n",
    "        if target > matrix[midRow][-1]:#comparing the top part of the row because if it is grater than that it belongs to the next bottom row since it is sorted \n",
    "            topRow = midRow + 1\n",
    "        elif target < matrix[midRow][-1]:\n",
    "            bottomRow = midRow - 1\n",
    "        else:\n",
    "            break\n",
    "    \n",
    "    if not (topRow <= bottomRow):\n",
    "        return False\n",
    "    \n",
    "    row = topRow + bottomRow // 2\n",
    "    \n",
    "    #the row the target is has been found\n",
    "    l,r = 0, cols -1\n",
    "    while l <= r:\n",
    "        m = (l + r) // 2\n",
    "        if target > matrix[row][m]:\n",
    "            l = m + 1\n",
    "        elif target < matrix[row][m]:\n",
    "            r = m - 1\n",
    "        else:\n",
    "            return True\n",
    "    return False"
   ]
  },
  {
   "attachments": {},
   "cell_type": "markdown",
   "metadata": {},
   "source": [
    "####Find minumum in rotated sorted array\n",
    "the sorted array gets rotated 4 times \n",
    "for example: {4,6,7,0,1,2,3}\n",
    "find the minum value in the array\n"
   ]
  },
  {
   "cell_type": "code",
   "execution_count": null,
   "metadata": {},
   "outputs": [],
   "source": [
    "#get middle pointer and decide where the minimum value can be\n",
    "#essentailly we have TWO SORTED PORTIONS since it is rotated\n",
    "#when in the middle are we in the left osrted portion or right \n",
    "#if we are in the left sorted we want to search the right side because it has smaller values since it is rotated\n",
    "#eveyr value in the right sorted poortionis less than right sorted portion\n",
    "\n",
    "\n",
    "class Solution:\n",
    "    def findMin(self, nums: List[int]) -> int:\n",
    "        l, r = 0, len(nums) - 1\n",
    "        while l < r:\n",
    "            m = l + (r - l) // 2\n",
    "            if nums[m] >= nums[r]: #check if middle value is apart of left sorted portion\n",
    "                l = m + 1#search tot he right\n",
    "            else:#we are in a value that is in the right sorted portion\n",
    "                r = m\n",
    "        return nums[l] #return left most\n"
   ]
  },
  {
   "cell_type": "code",
   "execution_count": 1,
   "metadata": {},
   "outputs": [],
   "source": [
    "#Two Crystall Balls \n",
    "#Given two crystall balls that will break if dropped form high enough ditsance, determine the exacrt spot in which \n",
    "#it will break in the most optimized way\n",
    "def two_crystall_balls(breaks)-> boolean:\n",
    "    jmpAMount =1"
   ]
  },
  {
   "cell_type": "code",
   "execution_count": null,
   "metadata": {},
   "outputs": [],
   "source": []
  }
 ],
 "metadata": {
  "kernelspec": {
   "display_name": "Python 3",
   "language": "python",
   "name": "python3"
  },
  "language_info": {
   "codemirror_mode": {
    "name": "ipython",
    "version": 3
   },
   "file_extension": ".py",
   "mimetype": "text/x-python",
   "name": "python",
   "nbconvert_exporter": "python",
   "pygments_lexer": "ipython3",
   "version": "3.11.4"
  },
  "orig_nbformat": 4,
  "vscode": {
   "interpreter": {
    "hash": "b0fa6594d8f4cbf19f97940f81e996739fb7646882a419484c72d19e05852a7e"
   }
  }
 },
 "nbformat": 4,
 "nbformat_minor": 2
}
