{
 "cells": [
  {
   "cell_type": "code",
   "execution_count": null,
   "metadata": {},
   "outputs": [],
   "source": [
    "#determine if path exists that doesn;t have a 0\n",
    "\n",
    "def canReachLeaf(root):\n",
    "    \n",
    "    if not root or root.val == 0:\n",
    "        return False\n",
    "    \n",
    "    if not root.left and not root.right:\n",
    "        return True\n",
    "    \n",
    "    if canReachLeaf(root.right):\n",
    "        return True\n",
    "\n",
    "    if canReachLeaf(root.left):\n",
    "        return True\n",
    "    return False"
   ]
  },
  {
   "cell_type": "code",
   "execution_count": 1,
   "metadata": {},
   "outputs": [
    {
     "ename": "SyntaxError",
     "evalue": "incomplete input (952604864.py, line 10)",
     "output_type": "error",
     "traceback": [
      "\u001b[0;36m  Cell \u001b[0;32mIn[1], line 10\u001b[0;36m\u001b[0m\n\u001b[0;31m    if leafPath(root.left,path):\u001b[0m\n\u001b[0m                                ^\u001b[0m\n\u001b[0;31mSyntaxError\u001b[0m\u001b[0;31m:\u001b[0m incomplete input\n"
     ]
    }
   ],
   "source": [
    "def leafPath(root,path):\n",
    "    if not root or root.val ==0:\n",
    "        return False\n",
    "    path.append(root.val)\n",
    "    \n",
    "    #leaf Node Reached\n",
    "    if not root.left and not root.right:\n",
    "        return True\n",
    "    \n",
    "    if leafPath(root.left,path):\n",
    "        return True\n",
    "    if leafPath(root.right,path):\n",
    "        return True\n",
    "\n",
    "    path.pop()\n",
    "    return False"
   ]
  }
 ],
 "metadata": {
  "kernelspec": {
   "display_name": "Python 3",
   "language": "python",
   "name": "python3"
  },
  "language_info": {
   "codemirror_mode": {
    "name": "ipython",
    "version": 3
   },
   "file_extension": ".py",
   "mimetype": "text/x-python",
   "name": "python",
   "nbconvert_exporter": "python",
   "pygments_lexer": "ipython3",
   "version": "3.11.4 (main, Jul 25 2023, 17:36:13) [Clang 14.0.3 (clang-1403.0.22.14.1)]"
  },
  "orig_nbformat": 4,
  "vscode": {
   "interpreter": {
    "hash": "b0fa6594d8f4cbf19f97940f81e996739fb7646882a419484c72d19e05852a7e"
   }
  }
 },
 "nbformat": 4,
 "nbformat_minor": 2
}
