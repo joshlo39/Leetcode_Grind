{
 "cells": [
  {
   "cell_type": "code",
   "execution_count": 1,
   "metadata": {},
   "outputs": [
    {
     "name": "stdout",
     "output_type": "stream",
     "text": [
      "2\n"
     ]
    }
   ],
   "source": [
    "# Matrix (2D Grid)\n",
    "grid = [[0, 0, 0, 0],\n",
    "        [1, 1, 0, 0],\n",
    "        [0, 0, 0, 1],\n",
    "        [0, 1, 0, 0]]\n",
    "\n",
    "\n",
    "#0(4^n*m) Time\n",
    "#memory complexity is the recursive callstack \n",
    "#which is O(n*m) because we are going to have to visit every cell\n",
    "\n",
    "\n",
    "# Count paths (backtracking)\n",
    "def dfs(grid, r, c, visit):\n",
    "    ROWS, COLS = len(grid), len(grid[0])\n",
    "    #base cases\n",
    "    #1. checking if row or colulm are out of bounds(min(r, c) < 0)\n",
    "    #2. checking if row or column are too big(r == ROWS or c == COLS)\n",
    "    #3. checking if we have visited this cell before((r, c) in visit)\n",
    "    #4. checking if we have hit a blocked cell(grid[r][c] == 1)\n",
    "    \n",
    "    if (min(r, c) < 0 or\n",
    "        r == ROWS or c == COLS or\n",
    "        (r, c) in visit or grid[r][c] == 1):\n",
    "        return 0\n",
    "    #reached bottom right cell(final destination)\n",
    "    if r == ROWS - 1 and c == COLS - 1:\n",
    "        return 1\n",
    "    # populating hashset with visited cells\n",
    "    # if input grid can be modified then we can set grid[r][c] = 1\n",
    "    visit.add((r, c))\n",
    "\n",
    "    count = 0\n",
    "    count += dfs(grid, r + 1, c, visit)#down\n",
    "    count += dfs(grid, r - 1, c, visit)#up \n",
    "    count += dfs(grid, r, c + 1, visit)#right\n",
    "    count += dfs(grid, r, c - 1, visit)#left\n",
    "    \n",
    "    #this is the backtracking aspect because we reached the destination\n",
    "    #so we want to go back and try other paths, \n",
    "    #in order to do that we have to mark them as unvisited\n",
    "    visit.remove((r, c))\n",
    "    return count\n",
    "\n",
    "\n",
    "print(dfs(grid, 0, 0, set() ))\n"
   ]
  },
  {
   "attachments": {},
   "cell_type": "markdown",
   "metadata": {},
   "source": [
    "Given an m x n 2D binary grid grid which represents a map of '1's (land) and '0's (water), return the number of islands.\n",
    "\n",
    "An island is surrounded by water and is formed by connecting adjacent lands horizontally or vertically. You may assume all four edges of the grid are all surrounded by water."
   ]
  },
  {
   "cell_type": "code",
   "execution_count": null,
   "metadata": {},
   "outputs": [],
   "source": [
    "class Solution:\n",
    "    def numIslands(self, grid: List[List[str]]) -> int:\n",
    "        if not grid or not grid[0]:\n",
    "            return 0\n",
    "\n",
    "        islands = 0\n",
    "        visit = set()\n",
    "        rows, cols = len(grid), len(grid[0])\n",
    "\n",
    "        def dfs(r, c):\n",
    "            if (\n",
    "                r not in range(rows)\n",
    "                or c not in range(cols)\n",
    "                or grid[r][c] == \"0\"\n",
    "                or (r, c) in visit\n",
    "            ):\n",
    "                return\n",
    "\n",
    "            visit.add((r, c))\n",
    "            directions = [[0, 1], [0, -1], [1, 0], [-1, 0]]\n",
    "            for dr, dc in directions:\n",
    "                dfs(r + dr, c + dc)\n",
    "\n",
    "        for r in range(rows):\n",
    "            for c in range(cols):\n",
    "                if grid[r][c] == \"1\" and (r, c) not in visit:\n",
    "                    islands += 1\n",
    "                    dfs(r, c)\n",
    "        return islands\n",
    "\n",
    "\n",
    "# BFS Version From Video\n",
    "class SolutionBFS:\n",
    "    def numIslands(self, grid: List[List[str]]) -> int:\n",
    "        if not grid:\n",
    "            return 0\n",
    "\n",
    "        rows, cols = len(grid), len(grid[0])\n",
    "        visited=set()\n",
    "        islands=0\n",
    "\n",
    "         def bfs(r,c):\n",
    "             q = deque()\n",
    "             visited.add((r,c))\n",
    "             q.append((r,c))\n",
    "           \n",
    "             while q: #expanding island\n",
    "                 row,col = q.popleft()\n",
    "                 directions= [[1,0],[-1,0],[0,1],[0,-1]]\n",
    "               \n",
    "                 for dr,dc in directions:\n",
    "                     r,c = row + dr, col + dc\n",
    "                     #first checks if in range, then checks if its on land, then checks if its visited\n",
    "                     if (r) in range(rows) and (c) in range(cols) and grid[r][c] == '1' and (r ,c) not in visited:\n",
    "                       \n",
    "                         q.append((r , c ))\n",
    "                         visited.add((r, c ))\n",
    "\n",
    "         for r in range(rows):\n",
    "             for c in range(cols):\n",
    "               \n",
    "                 if grid[r][c] == \"1\" and (r,c) not in visited:\n",
    "                     bfs(r,c)\n",
    "                     islands +=1 \n",
    "\n",
    "         return islands\n",
    "\n"
   ]
  }
 ],
 "metadata": {
  "kernelspec": {
   "display_name": "Python 3",
   "language": "python",
   "name": "python3"
  },
  "language_info": {
   "codemirror_mode": {
    "name": "ipython",
    "version": 3
   },
   "file_extension": ".py",
   "mimetype": "text/x-python",
   "name": "python",
   "nbconvert_exporter": "python",
   "pygments_lexer": "ipython3",
   "version": "3.11.4"
  },
  "orig_nbformat": 4,
  "vscode": {
   "interpreter": {
    "hash": "b0fa6594d8f4cbf19f97940f81e996739fb7646882a419484c72d19e05852a7e"
   }
  }
 },
 "nbformat": 4,
 "nbformat_minor": 2
}
